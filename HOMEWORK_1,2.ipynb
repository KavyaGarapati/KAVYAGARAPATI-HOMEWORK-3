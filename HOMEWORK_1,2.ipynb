{
  "nbformat": 4,
  "nbformat_minor": 0,
  "metadata": {
    "colab": {
      "name": "HOMEWORK-1,2.ipynb",
      "version": "0.3.2",
      "provenance": [],
      "collapsed_sections": [],
      "include_colab_link": true
    },
    "kernelspec": {
      "name": "python3",
      "display_name": "Python 3"
    },
    "accelerator": "GPU"
  },
  "cells": [
    {
      "cell_type": "markdown",
      "metadata": {
        "id": "view-in-github",
        "colab_type": "text"
      },
      "source": [
        "<a href=\"https://colab.research.google.com/github/KavyaGarapati/KAVYAGARAPATI-HOMEWORK-3/blob/master/HOMEWORK_1%2C2.ipynb\" target=\"_parent\"><img src=\"https://colab.research.google.com/assets/colab-badge.svg\" alt=\"Open In Colab\"/></a>"
      ]
    },
    {
      "metadata": {
        "id": "JE1Ukv_Q4tgR",
        "colab_type": "text"
      },
      "cell_type": "markdown",
      "source": [
        "# Problem 1\n",
        "\n",
        "\n",
        "\n",
        "\n"
      ]
    },
    {
      "metadata": {
        "id": "T11wXoNU4D5Z",
        "colab_type": "code",
        "outputId": "40bbf3ef-9d34-4d4e-ed3a-6f89de361e45",
        "colab": {
          "base_uri": "https://localhost:8080/",
          "height": 204
        }
      },
      "cell_type": "code",
      "source": [
        "!wget --no-check-certificate \\\n",
        "    https://storage.googleapis.com/mledu-datasets/cats_and_dogs_filtered.zip \\\n",
        "    -O /tmp/cats_and_dogs_filtered.zip\n",
        " "
      ],
      "execution_count": 0,
      "outputs": [
        {
          "output_type": "stream",
          "text": [
            "--2019-04-17 16:02:49--  https://storage.googleapis.com/mledu-datasets/cats_and_dogs_filtered.zip\n",
            "Resolving storage.googleapis.com (storage.googleapis.com)... 172.217.194.128, 2404:6800:4003:c01::80\n",
            "Connecting to storage.googleapis.com (storage.googleapis.com)|172.217.194.128|:443... connected.\n",
            "HTTP request sent, awaiting response... 200 OK\n",
            "Length: 68606236 (65M) [application/zip]\n",
            "Saving to: ‘/tmp/cats_and_dogs_filtered.zip’\n",
            "\n",
            "\r          /tmp/cats   0%[                    ]       0  --.-KB/s               \r         /tmp/cats_   6%[>                   ]   4.01M  9.98MB/s               \r        /tmp/cats_a  48%[========>           ]  32.01M  45.7MB/s               \r/tmp/cats_and_dogs_ 100%[===================>]  65.43M  75.7MB/s    in 0.9s    \n",
            "\n",
            "2019-04-17 16:02:51 (75.7 MB/s) - ‘/tmp/cats_and_dogs_filtered.zip’ saved [68606236/68606236]\n",
            "\n"
          ],
          "name": "stdout"
        }
      ]
    },
    {
      "metadata": {
        "id": "YBCtfVsk4W54",
        "colab_type": "code",
        "colab": {}
      },
      "cell_type": "code",
      "source": [
        "import os\n",
        "import zipfile\n",
        "\n",
        "local_zip = '/tmp/cats_and_dogs_filtered.zip'\n",
        "zip_ref = zipfile.ZipFile(local_zip, 'r')\n",
        "zip_ref.extractall('/tmp')\n",
        "zip_ref.close()"
      ],
      "execution_count": 0,
      "outputs": []
    },
    {
      "metadata": {
        "id": "hDMrsWCn4g8G",
        "colab_type": "code",
        "colab": {}
      },
      "cell_type": "code",
      "source": [
        "base_dir = '/tmp/cats_and_dogs_filtered'\n",
        "train_dir = os.path.join(base_dir, 'train')\n",
        "validation_dir = os.path.join(base_dir, 'validation')\n",
        "\n",
        "# Directory with our training cat pictures\n",
        "train_cats_dir = os.path.join(train_dir, 'cats')\n",
        "\n",
        "# Directory with our training dog pictures\n",
        "train_dogs_dir = os.path.join(train_dir, 'dogs')\n",
        "\n",
        "# Directory with our validation cat pictures\n",
        "validation_cats_dir = os.path.join(validation_dir, 'cats')\n",
        "\n",
        "# Directory with our validation dog pictures\n",
        "validation_dogs_dir = os.path.join(validation_dir, 'dogs')"
      ],
      "execution_count": 0,
      "outputs": []
    },
    {
      "metadata": {
        "id": "t2ggM2065TfL",
        "colab_type": "text"
      },
      "cell_type": "markdown",
      "source": [
        "## **load the convolutional base**"
      ]
    },
    {
      "metadata": {
        "id": "pz2k53cS5d6v",
        "colab_type": "code",
        "colab": {}
      },
      "cell_type": "code",
      "source": [
        "from keras.applications import VGG19\n",
        "\n",
        "conv_base = VGG19(\n",
        "    weights='imagenet', \n",
        "    include_top=False, \n",
        "    input_shape=(150, 150, 3))"
      ],
      "execution_count": 0,
      "outputs": []
    },
    {
      "metadata": {
        "id": "4ONRr74K5wwv",
        "colab_type": "code",
        "colab": {}
      },
      "cell_type": "code",
      "source": [
        "conv_base.trainable = False\n",
        "for layer in conv_base.layers:\n",
        "  layer.trainable = False"
      ],
      "execution_count": 0,
      "outputs": []
    },
    {
      "metadata": {
        "id": "7aVB5tAt6Pym",
        "colab_type": "text"
      },
      "cell_type": "markdown",
      "source": [
        "**concatenate convolutional base and densely connected layers**"
      ]
    },
    {
      "metadata": {
        "id": "UJWe3N9a6GQ9",
        "colab_type": "code",
        "outputId": "0f003edc-aeb9-4578-86cd-3740f3c74aff",
        "colab": {
          "base_uri": "https://localhost:8080/",
          "height": 986
        }
      },
      "cell_type": "code",
      "source": [
        "from keras import layers\n",
        "from keras import models\n",
        "from keras import optimizers\n",
        "\n",
        "\n",
        "last_layer = conv_base.get_layer('block5_pool').output\n",
        "\n",
        "network = layers.Flatten()(last_layer)\n",
        "network = layers.Dense(256, activation='relu')(network)\n",
        "network = layers.Dense(1, activation='sigmoid')(network)\n",
        "\n",
        "model = models.Model(conv_base.input, network)\n",
        "\n",
        "#model = models.Sequential()\n",
        "#model.add(conv_base)\n",
        "#model.add(layers.Flatten())\n",
        "#model.add(layers.Dense(256, activation='relu'))\n",
        "#model.add(layers.Dropout(0.1))\n",
        "#model.add(layers.Dense(1, activation='sigmoid'))\n",
        "\n",
        "model.summary()"
      ],
      "execution_count": 0,
      "outputs": [
        {
          "output_type": "stream",
          "text": [
            "_________________________________________________________________\n",
            "Layer (type)                 Output Shape              Param #   \n",
            "=================================================================\n",
            "input_4 (InputLayer)         (None, 150, 150, 3)       0         \n",
            "_________________________________________________________________\n",
            "block1_conv1 (Conv2D)        (None, 150, 150, 64)      1792      \n",
            "_________________________________________________________________\n",
            "block1_conv2 (Conv2D)        (None, 150, 150, 64)      36928     \n",
            "_________________________________________________________________\n",
            "block1_pool (MaxPooling2D)   (None, 75, 75, 64)        0         \n",
            "_________________________________________________________________\n",
            "block2_conv1 (Conv2D)        (None, 75, 75, 128)       73856     \n",
            "_________________________________________________________________\n",
            "block2_conv2 (Conv2D)        (None, 75, 75, 128)       147584    \n",
            "_________________________________________________________________\n",
            "block2_pool (MaxPooling2D)   (None, 37, 37, 128)       0         \n",
            "_________________________________________________________________\n",
            "block3_conv1 (Conv2D)        (None, 37, 37, 256)       295168    \n",
            "_________________________________________________________________\n",
            "block3_conv2 (Conv2D)        (None, 37, 37, 256)       590080    \n",
            "_________________________________________________________________\n",
            "block3_conv3 (Conv2D)        (None, 37, 37, 256)       590080    \n",
            "_________________________________________________________________\n",
            "block3_conv4 (Conv2D)        (None, 37, 37, 256)       590080    \n",
            "_________________________________________________________________\n",
            "block3_pool (MaxPooling2D)   (None, 18, 18, 256)       0         \n",
            "_________________________________________________________________\n",
            "block4_conv1 (Conv2D)        (None, 18, 18, 512)       1180160   \n",
            "_________________________________________________________________\n",
            "block4_conv2 (Conv2D)        (None, 18, 18, 512)       2359808   \n",
            "_________________________________________________________________\n",
            "block4_conv3 (Conv2D)        (None, 18, 18, 512)       2359808   \n",
            "_________________________________________________________________\n",
            "block4_conv4 (Conv2D)        (None, 18, 18, 512)       2359808   \n",
            "_________________________________________________________________\n",
            "block4_pool (MaxPooling2D)   (None, 9, 9, 512)         0         \n",
            "_________________________________________________________________\n",
            "block5_conv1 (Conv2D)        (None, 9, 9, 512)         2359808   \n",
            "_________________________________________________________________\n",
            "block5_conv2 (Conv2D)        (None, 9, 9, 512)         2359808   \n",
            "_________________________________________________________________\n",
            "block5_conv3 (Conv2D)        (None, 9, 9, 512)         2359808   \n",
            "_________________________________________________________________\n",
            "block5_conv4 (Conv2D)        (None, 9, 9, 512)         2359808   \n",
            "_________________________________________________________________\n",
            "block5_pool (MaxPooling2D)   (None, 4, 4, 512)         0         \n",
            "_________________________________________________________________\n",
            "flatten_4 (Flatten)          (None, 8192)              0         \n",
            "_________________________________________________________________\n",
            "dense_7 (Dense)              (None, 256)               2097408   \n",
            "_________________________________________________________________\n",
            "dense_8 (Dense)              (None, 1)                 257       \n",
            "=================================================================\n",
            "Total params: 22,122,049\n",
            "Trainable params: 2,097,665\n",
            "Non-trainable params: 20,024,384\n",
            "_________________________________________________________________\n"
          ],
          "name": "stdout"
        }
      ]
    },
    {
      "metadata": {
        "id": "PNgdh7eM9mLJ",
        "colab_type": "text"
      },
      "cell_type": "markdown",
      "source": [
        "**Training the model end to end**"
      ]
    },
    {
      "metadata": {
        "id": "Wyx5xywY9jk6",
        "colab_type": "code",
        "outputId": "14bedd53-a424-4081-ea94-3030dea72727",
        "colab": {
          "base_uri": "https://localhost:8080/",
          "height": 3451
        }
      },
      "cell_type": "code",
      "source": [
        "from keras.preprocessing.image import ImageDataGenerator\n",
        "from keras import optimizers\n",
        "\n",
        "# data augmentation\n",
        "\n",
        "train_datagen = ImageDataGenerator(\n",
        "    rescale=1./255, \n",
        "    rotation_range=40,\n",
        "    width_shift_range=0.2,\n",
        "    height_shift_range=0.2,\n",
        "    shear_range=0.2,\n",
        "    zoom_range=0.2,\n",
        "    horizontal_flip=True,\n",
        "    fill_mode='nearest'\n",
        ")\n",
        "\n",
        "train_generator = train_datagen.flow_from_directory(\n",
        "    train_dir,\n",
        "    target_size=(150, 150),\n",
        "    batch_size=20,\n",
        "    class_mode='binary')\n",
        "\n",
        "validation_datagen = ImageDataGenerator(rescale=1./255)\n",
        "\n",
        "validation_generator = validation_datagen.flow_from_directory(\n",
        "    validation_dir,\n",
        "    target_size=(150, 150),\n",
        "    batch_size=20,\n",
        "    class_mode='binary')\n",
        "\n",
        "# compile model\n",
        "\n",
        "model.compile(\n",
        "    loss='binary_crossentropy', \n",
        "    optimizer=optimizers.RMSprop(lr=2e-5), \n",
        "    metrics=['acc'])\n",
        "\n",
        "# train\n",
        "\n",
        "history = model.fit_generator(\n",
        "    train_generator,\n",
        "    steps_per_epoch=100,\n",
        "    epochs=100,\n",
        "    validation_data=validation_generator,\n",
        "    validation_steps=50\n",
        ")"
      ],
      "execution_count": 0,
      "outputs": [
        {
          "output_type": "stream",
          "text": [
            "Found 2000 images belonging to 2 classes.\n",
            "Found 1000 images belonging to 2 classes.\n",
            "Epoch 1/100\n",
            "100/100 [==============================] - 20s 199ms/step - loss: 0.6091 - acc: 0.6720 - val_loss: 0.5002 - val_acc: 0.7930\n",
            "Epoch 2/100\n",
            "100/100 [==============================] - 18s 183ms/step - loss: 0.5330 - acc: 0.7470 - val_loss: 0.4368 - val_acc: 0.8150\n",
            "Epoch 3/100\n",
            "100/100 [==============================] - 18s 182ms/step - loss: 0.4854 - acc: 0.7790 - val_loss: 0.3925 - val_acc: 0.8270\n",
            "Epoch 4/100\n",
            "100/100 [==============================] - 19s 192ms/step - loss: 0.4423 - acc: 0.8075 - val_loss: 0.3550 - val_acc: 0.8470\n",
            "Epoch 5/100\n",
            "100/100 [==============================] - 18s 177ms/step - loss: 0.4337 - acc: 0.8045 - val_loss: 0.3491 - val_acc: 0.8450\n",
            "Epoch 6/100\n",
            "100/100 [==============================] - 18s 185ms/step - loss: 0.4197 - acc: 0.8075 - val_loss: 0.3520 - val_acc: 0.8440\n",
            "Epoch 7/100\n",
            "100/100 [==============================] - 19s 190ms/step - loss: 0.3949 - acc: 0.8265 - val_loss: 0.3435 - val_acc: 0.8470\n",
            "Epoch 8/100\n",
            "100/100 [==============================] - 18s 176ms/step - loss: 0.3946 - acc: 0.8215 - val_loss: 0.3066 - val_acc: 0.8710\n",
            "Epoch 9/100\n",
            "100/100 [==============================] - 18s 177ms/step - loss: 0.3935 - acc: 0.8180 - val_loss: 0.3197 - val_acc: 0.8550\n",
            "Epoch 10/100\n",
            "100/100 [==============================] - 18s 177ms/step - loss: 0.3625 - acc: 0.8435 - val_loss: 0.2971 - val_acc: 0.8680\n",
            "Epoch 11/100\n",
            "100/100 [==============================] - 18s 185ms/step - loss: 0.3712 - acc: 0.8345 - val_loss: 0.2933 - val_acc: 0.8710\n",
            "Epoch 12/100\n",
            "100/100 [==============================] - 18s 178ms/step - loss: 0.3761 - acc: 0.8305 - val_loss: 0.2924 - val_acc: 0.8720\n",
            "Epoch 13/100\n",
            "100/100 [==============================] - 18s 177ms/step - loss: 0.3584 - acc: 0.8435 - val_loss: 0.3266 - val_acc: 0.8630\n",
            "Epoch 14/100\n",
            "100/100 [==============================] - 18s 177ms/step - loss: 0.3728 - acc: 0.8420 - val_loss: 0.2945 - val_acc: 0.8750\n",
            "Epoch 15/100\n",
            "100/100 [==============================] - 18s 177ms/step - loss: 0.3530 - acc: 0.8435 - val_loss: 0.2878 - val_acc: 0.8740\n",
            "Epoch 16/100\n",
            "100/100 [==============================] - 19s 189ms/step - loss: 0.3460 - acc: 0.8415 - val_loss: 0.2908 - val_acc: 0.8730\n",
            "Epoch 17/100\n",
            "100/100 [==============================] - 18s 177ms/step - loss: 0.3559 - acc: 0.8450 - val_loss: 0.2774 - val_acc: 0.8750\n",
            "Epoch 18/100\n",
            "100/100 [==============================] - 18s 176ms/step - loss: 0.3476 - acc: 0.8415 - val_loss: 0.2767 - val_acc: 0.8790\n",
            "Epoch 19/100\n",
            "100/100 [==============================] - 18s 177ms/step - loss: 0.3431 - acc: 0.8455 - val_loss: 0.2769 - val_acc: 0.8740\n",
            "Epoch 20/100\n",
            "100/100 [==============================] - 19s 186ms/step - loss: 0.3211 - acc: 0.8640 - val_loss: 0.2865 - val_acc: 0.8720\n",
            "Epoch 21/100\n",
            "100/100 [==============================] - 19s 188ms/step - loss: 0.3424 - acc: 0.8530 - val_loss: 0.2732 - val_acc: 0.8770\n",
            "Epoch 22/100\n",
            "100/100 [==============================] - 18s 178ms/step - loss: 0.3508 - acc: 0.8355 - val_loss: 0.2720 - val_acc: 0.8720\n",
            "Epoch 23/100\n",
            "100/100 [==============================] - 18s 184ms/step - loss: 0.3276 - acc: 0.8555 - val_loss: 0.2719 - val_acc: 0.8790\n",
            "Epoch 24/100\n",
            "100/100 [==============================] - 18s 178ms/step - loss: 0.3438 - acc: 0.8365 - val_loss: 0.2890 - val_acc: 0.8730\n",
            "Epoch 25/100\n",
            "100/100 [==============================] - 19s 187ms/step - loss: 0.3337 - acc: 0.8560 - val_loss: 0.2742 - val_acc: 0.8840\n",
            "Epoch 26/100\n",
            "100/100 [==============================] - 18s 177ms/step - loss: 0.3222 - acc: 0.8625 - val_loss: 0.2791 - val_acc: 0.8770\n",
            "Epoch 27/100\n",
            "100/100 [==============================] - 18s 178ms/step - loss: 0.3267 - acc: 0.8565 - val_loss: 0.2674 - val_acc: 0.8850\n",
            "Epoch 28/100\n",
            "100/100 [==============================] - 18s 177ms/step - loss: 0.3209 - acc: 0.8545 - val_loss: 0.2707 - val_acc: 0.8860\n",
            "Epoch 29/100\n",
            "100/100 [==============================] - 19s 190ms/step - loss: 0.3173 - acc: 0.8605 - val_loss: 0.2668 - val_acc: 0.8810\n",
            "Epoch 30/100\n",
            "100/100 [==============================] - 18s 176ms/step - loss: 0.3307 - acc: 0.8515 - val_loss: 0.2725 - val_acc: 0.8860\n",
            "Epoch 31/100\n",
            "100/100 [==============================] - 18s 178ms/step - loss: 0.3111 - acc: 0.8645 - val_loss: 0.2685 - val_acc: 0.8890\n",
            "Epoch 32/100\n",
            "100/100 [==============================] - 18s 177ms/step - loss: 0.3218 - acc: 0.8645 - val_loss: 0.2608 - val_acc: 0.8920\n",
            "Epoch 33/100\n",
            "100/100 [==============================] - 18s 177ms/step - loss: 0.3160 - acc: 0.8655 - val_loss: 0.2771 - val_acc: 0.8800\n",
            "Epoch 34/100\n",
            "100/100 [==============================] - 19s 185ms/step - loss: 0.3093 - acc: 0.8645 - val_loss: 0.2574 - val_acc: 0.8850\n",
            "Epoch 35/100\n",
            "100/100 [==============================] - 18s 177ms/step - loss: 0.3130 - acc: 0.8615 - val_loss: 0.2651 - val_acc: 0.8750\n",
            "Epoch 36/100\n",
            "100/100 [==============================] - 18s 176ms/step - loss: 0.3166 - acc: 0.8615 - val_loss: 0.2586 - val_acc: 0.8880\n",
            "Epoch 37/100\n",
            "100/100 [==============================] - 18s 177ms/step - loss: 0.3145 - acc: 0.8650 - val_loss: 0.2598 - val_acc: 0.8850\n",
            "Epoch 38/100\n",
            "100/100 [==============================] - 19s 192ms/step - loss: 0.3123 - acc: 0.8715 - val_loss: 0.2578 - val_acc: 0.8880\n",
            "Epoch 39/100\n",
            "100/100 [==============================] - 18s 184ms/step - loss: 0.3183 - acc: 0.8590 - val_loss: 0.2626 - val_acc: 0.8900\n",
            "Epoch 40/100\n",
            "100/100 [==============================] - 19s 185ms/step - loss: 0.3155 - acc: 0.8660 - val_loss: 0.2594 - val_acc: 0.8910\n",
            "Epoch 41/100\n",
            "100/100 [==============================] - 18s 177ms/step - loss: 0.2997 - acc: 0.8665 - val_loss: 0.2848 - val_acc: 0.8790\n",
            "Epoch 42/100\n",
            "100/100 [==============================] - 18s 181ms/step - loss: 0.3005 - acc: 0.8740 - val_loss: 0.2644 - val_acc: 0.8900\n",
            "Epoch 43/100\n",
            "100/100 [==============================] - 18s 182ms/step - loss: 0.2988 - acc: 0.8710 - val_loss: 0.2889 - val_acc: 0.8770\n",
            "Epoch 44/100\n",
            "100/100 [==============================] - 18s 176ms/step - loss: 0.3038 - acc: 0.8675 - val_loss: 0.2625 - val_acc: 0.8880\n",
            "Epoch 45/100\n",
            "100/100 [==============================] - 18s 177ms/step - loss: 0.3049 - acc: 0.8660 - val_loss: 0.2589 - val_acc: 0.8800\n",
            "Epoch 46/100\n",
            "100/100 [==============================] - 18s 177ms/step - loss: 0.2885 - acc: 0.8730 - val_loss: 0.2642 - val_acc: 0.8790\n",
            "Epoch 47/100\n",
            "100/100 [==============================] - 19s 191ms/step - loss: 0.2900 - acc: 0.8750 - val_loss: 0.2710 - val_acc: 0.8850\n",
            "Epoch 48/100\n",
            "100/100 [==============================] - 18s 177ms/step - loss: 0.2938 - acc: 0.8660 - val_loss: 0.2596 - val_acc: 0.8870\n",
            "Epoch 49/100\n",
            "100/100 [==============================] - 18s 177ms/step - loss: 0.2936 - acc: 0.8735 - val_loss: 0.2761 - val_acc: 0.8820\n",
            "Epoch 50/100\n",
            "100/100 [==============================] - 18s 177ms/step - loss: 0.3101 - acc: 0.8650 - val_loss: 0.2588 - val_acc: 0.8860\n",
            "Epoch 51/100\n",
            "100/100 [==============================] - 18s 182ms/step - loss: 0.2917 - acc: 0.8740 - val_loss: 0.2711 - val_acc: 0.8820\n",
            "Epoch 52/100\n",
            "100/100 [==============================] - 18s 181ms/step - loss: 0.3126 - acc: 0.8630 - val_loss: 0.2626 - val_acc: 0.8890\n",
            "Epoch 53/100\n",
            "100/100 [==============================] - 18s 176ms/step - loss: 0.2866 - acc: 0.8795 - val_loss: 0.2626 - val_acc: 0.8910\n",
            "Epoch 54/100\n",
            "100/100 [==============================] - 18s 177ms/step - loss: 0.3042 - acc: 0.8720 - val_loss: 0.2681 - val_acc: 0.8850\n",
            "Epoch 55/100\n",
            "100/100 [==============================] - 18s 177ms/step - loss: 0.2914 - acc: 0.8825 - val_loss: 0.2589 - val_acc: 0.8900\n",
            "Epoch 56/100\n",
            "100/100 [==============================] - 19s 194ms/step - loss: 0.2948 - acc: 0.8785 - val_loss: 0.2554 - val_acc: 0.8930\n",
            "Epoch 57/100\n",
            "100/100 [==============================] - 18s 184ms/step - loss: 0.2946 - acc: 0.8750 - val_loss: 0.2569 - val_acc: 0.8950\n",
            "Epoch 58/100\n",
            "100/100 [==============================] - 18s 177ms/step - loss: 0.2821 - acc: 0.8750 - val_loss: 0.2649 - val_acc: 0.8880\n",
            "Epoch 59/100\n",
            "100/100 [==============================] - 18s 177ms/step - loss: 0.2980 - acc: 0.8705 - val_loss: 0.2731 - val_acc: 0.8840\n",
            "Epoch 60/100\n",
            "100/100 [==============================] - 18s 185ms/step - loss: 0.2951 - acc: 0.8685 - val_loss: 0.2677 - val_acc: 0.8830\n",
            "Epoch 61/100\n",
            "100/100 [==============================] - 18s 179ms/step - loss: 0.2900 - acc: 0.8825 - val_loss: 0.2492 - val_acc: 0.8940\n",
            "Epoch 62/100\n",
            "100/100 [==============================] - 18s 178ms/step - loss: 0.2853 - acc: 0.8780 - val_loss: 0.2534 - val_acc: 0.8870\n",
            "Epoch 63/100\n",
            "100/100 [==============================] - 18s 177ms/step - loss: 0.2828 - acc: 0.8745 - val_loss: 0.2505 - val_acc: 0.8990\n",
            "Epoch 64/100\n",
            "100/100 [==============================] - 18s 177ms/step - loss: 0.2865 - acc: 0.8730 - val_loss: 0.2679 - val_acc: 0.8770\n",
            "Epoch 65/100\n",
            "100/100 [==============================] - 19s 190ms/step - loss: 0.2940 - acc: 0.8790 - val_loss: 0.2527 - val_acc: 0.8960\n",
            "Epoch 66/100\n",
            "100/100 [==============================] - 18s 178ms/step - loss: 0.2861 - acc: 0.8815 - val_loss: 0.2746 - val_acc: 0.8840\n",
            "Epoch 67/100\n",
            "100/100 [==============================] - 18s 178ms/step - loss: 0.2875 - acc: 0.8745 - val_loss: 0.2685 - val_acc: 0.8860\n",
            "Epoch 68/100\n",
            "100/100 [==============================] - 18s 177ms/step - loss: 0.2837 - acc: 0.8780 - val_loss: 0.2516 - val_acc: 0.8940\n",
            "Epoch 69/100\n",
            "100/100 [==============================] - 19s 186ms/step - loss: 0.2728 - acc: 0.8850 - val_loss: 0.2508 - val_acc: 0.8880\n",
            "Epoch 70/100\n",
            "100/100 [==============================] - 18s 178ms/step - loss: 0.2739 - acc: 0.8790 - val_loss: 0.2651 - val_acc: 0.8830\n",
            "Epoch 71/100\n",
            "100/100 [==============================] - 18s 177ms/step - loss: 0.2851 - acc: 0.8835 - val_loss: 0.2519 - val_acc: 0.8980\n",
            "Epoch 72/100\n",
            "100/100 [==============================] - 18s 178ms/step - loss: 0.2814 - acc: 0.8840 - val_loss: 0.2453 - val_acc: 0.8970\n",
            "Epoch 73/100\n",
            "100/100 [==============================] - 19s 193ms/step - loss: 0.2713 - acc: 0.8845 - val_loss: 0.2475 - val_acc: 0.9000\n",
            "Epoch 74/100\n",
            "100/100 [==============================] - 19s 188ms/step - loss: 0.2771 - acc: 0.8850 - val_loss: 0.2666 - val_acc: 0.8860\n",
            "Epoch 75/100\n",
            "100/100 [==============================] - 18s 178ms/step - loss: 0.2914 - acc: 0.8745 - val_loss: 0.2436 - val_acc: 0.8940\n",
            "Epoch 76/100\n",
            "100/100 [==============================] - 18s 176ms/step - loss: 0.2805 - acc: 0.8740 - val_loss: 0.2436 - val_acc: 0.8990\n",
            "Epoch 77/100\n",
            "100/100 [==============================] - 18s 178ms/step - loss: 0.2836 - acc: 0.8710 - val_loss: 0.2448 - val_acc: 0.9040\n",
            "Epoch 78/100\n",
            "100/100 [==============================] - 19s 189ms/step - loss: 0.2908 - acc: 0.8770 - val_loss: 0.2455 - val_acc: 0.8940\n",
            "Epoch 79/100\n",
            "100/100 [==============================] - 18s 178ms/step - loss: 0.2726 - acc: 0.8810 - val_loss: 0.2512 - val_acc: 0.8970\n",
            "Epoch 80/100\n",
            "100/100 [==============================] - 18s 177ms/step - loss: 0.2756 - acc: 0.8810 - val_loss: 0.2578 - val_acc: 0.8930\n",
            "Epoch 81/100\n",
            "100/100 [==============================] - 18s 177ms/step - loss: 0.2802 - acc: 0.8830 - val_loss: 0.2430 - val_acc: 0.8920\n",
            "Epoch 82/100\n",
            "100/100 [==============================] - 18s 177ms/step - loss: 0.2714 - acc: 0.8905 - val_loss: 0.2421 - val_acc: 0.8960\n",
            "Epoch 83/100\n",
            "100/100 [==============================] - 19s 186ms/step - loss: 0.2724 - acc: 0.8820 - val_loss: 0.2582 - val_acc: 0.8890\n",
            "Epoch 84/100\n",
            "100/100 [==============================] - 18s 177ms/step - loss: 0.2917 - acc: 0.8785 - val_loss: 0.2468 - val_acc: 0.8960\n",
            "Epoch 85/100\n",
            "100/100 [==============================] - 18s 176ms/step - loss: 0.2639 - acc: 0.8890 - val_loss: 0.2526 - val_acc: 0.8980\n",
            "Epoch 86/100\n",
            "100/100 [==============================] - 18s 177ms/step - loss: 0.2911 - acc: 0.8770 - val_loss: 0.2394 - val_acc: 0.9000\n",
            "Epoch 87/100\n",
            "100/100 [==============================] - 19s 190ms/step - loss: 0.2819 - acc: 0.8760 - val_loss: 0.2650 - val_acc: 0.8870\n",
            "Epoch 88/100\n",
            "100/100 [==============================] - 18s 176ms/step - loss: 0.2846 - acc: 0.8705 - val_loss: 0.2404 - val_acc: 0.8990\n",
            "Epoch 89/100\n",
            "100/100 [==============================] - 18s 177ms/step - loss: 0.2720 - acc: 0.8710 - val_loss: 0.2394 - val_acc: 0.8920\n",
            "Epoch 90/100\n",
            "100/100 [==============================] - 19s 191ms/step - loss: 0.2701 - acc: 0.8840 - val_loss: 0.2417 - val_acc: 0.9040\n",
            "Epoch 91/100\n",
            "100/100 [==============================] - 19s 185ms/step - loss: 0.2714 - acc: 0.8825 - val_loss: 0.2429 - val_acc: 0.9030\n",
            "Epoch 92/100\n",
            "100/100 [==============================] - 18s 183ms/step - loss: 0.2756 - acc: 0.8765 - val_loss: 0.2544 - val_acc: 0.8950\n",
            "Epoch 93/100\n",
            "100/100 [==============================] - 18s 177ms/step - loss: 0.2854 - acc: 0.8745 - val_loss: 0.2517 - val_acc: 0.8960\n",
            "Epoch 94/100\n",
            "100/100 [==============================] - 18s 177ms/step - loss: 0.2780 - acc: 0.8775 - val_loss: 0.2548 - val_acc: 0.8950\n",
            "Epoch 95/100\n",
            "100/100 [==============================] - 18s 177ms/step - loss: 0.2812 - acc: 0.8870 - val_loss: 0.2443 - val_acc: 0.9020\n",
            "Epoch 96/100\n",
            "100/100 [==============================] - 19s 190ms/step - loss: 0.2757 - acc: 0.8790 - val_loss: 0.2456 - val_acc: 0.9010\n",
            "Epoch 97/100\n",
            "100/100 [==============================] - 18s 176ms/step - loss: 0.2761 - acc: 0.8835 - val_loss: 0.2487 - val_acc: 0.9010\n",
            "Epoch 98/100\n",
            "100/100 [==============================] - 18s 177ms/step - loss: 0.2655 - acc: 0.8885 - val_loss: 0.2416 - val_acc: 0.8980\n",
            "Epoch 99/100\n",
            "100/100 [==============================] - 18s 177ms/step - loss: 0.2698 - acc: 0.8805 - val_loss: 0.2466 - val_acc: 0.8980\n",
            "Epoch 100/100\n",
            "100/100 [==============================] - 18s 181ms/step - loss: 0.2682 - acc: 0.8860 - val_loss: 0.2423 - val_acc: 0.8940\n"
          ],
          "name": "stdout"
        }
      ]
    },
    {
      "metadata": {
        "id": "sgtOY4jw7xu1",
        "colab_type": "code",
        "outputId": "911b608a-c102-4d55-b564-5092f4b84f9c",
        "colab": {
          "base_uri": "https://localhost:8080/",
          "height": 545
        }
      },
      "cell_type": "code",
      "source": [
        "%matplotlib inline\n",
        "\n",
        "import matplotlib.pyplot as plt\n",
        "\n",
        "acc = history.history['acc']\n",
        "val_acc = history.history['val_acc']\n",
        "\n",
        "loss = history.history['loss']\n",
        "val_loss = history.history['val_loss']\n",
        "\n",
        "epochs = range(1, len(acc) + 1)\n",
        "\n",
        "# training and validation accuracy\n",
        "\n",
        "plt.plot(epochs, acc, 'bo', label='training acc')\n",
        "plt.plot(epochs, val_acc, 'b', label='validation acc')\n",
        "plt.title('training and validation accuracy')\n",
        "plt.legend()\n",
        "\n",
        "plt.figure()\n",
        "\n",
        "# training and validation loss\n",
        "\n",
        "plt.plot(epochs, loss, 'bo', label='training loss')\n",
        "plt.plot(epochs, val_loss, 'b', label='validation loss')\n",
        "plt.title('training and validation loss')\n",
        "plt.legend()\n",
        "\n",
        "plt.show()"
      ],
      "execution_count": 0,
      "outputs": [
        {
          "output_type": "display_data",
          "data": {
            "image/png": "[encoded data removed]",
            "text/plain": [
              "<Figure size 432x288 with 1 Axes>"
            ]
          },
          "metadata": {
            "tags": []
          }
        },
        {
          "output_type": "display_data",
          "data": {
            "image/png": "[encoded data removed]",
            "text/plain": [
              "<Figure size 432x288 with 1 Axes>"
            ]
          },
          "metadata": {
            "tags": []
          }
        }
      ]
    },
    {
      "metadata": {
        "id": "bClIYag-UOTH",
        "colab_type": "text"
      },
      "cell_type": "markdown",
      "source": [
        "# problem 2"
      ]
    },
    {
      "metadata": {
        "id": "v8sz2cFuauE7",
        "colab_type": "text"
      },
      "cell_type": "markdown",
      "source": [
        "**Fine Tuning**"
      ]
    },
    {
      "metadata": {
        "id": "DjO3dkLWUNZY",
        "colab_type": "code",
        "colab": {}
      },
      "cell_type": "code",
      "source": [
        "conv_base.trainable = True\n",
        "\n",
        "set_trainable = False\n",
        "for layer in conv_base.layers:\n",
        "  if layer.name == 'block5_conv1':\n",
        "    set_trainable = True\n",
        "  if set_trainable:\n",
        "    layer.trainable = True\n",
        "  else:\n",
        "    layer.trainable = False"
      ],
      "execution_count": 0,
      "outputs": []
    },
    {
      "metadata": {
        "id": "59VvqTp4UYpe",
        "colab_type": "code",
        "outputId": "dfc10703-38e6-4837-b8fb-733f9fac7f84",
        "colab": {
          "base_uri": "https://localhost:8080/",
          "height": 3417
        }
      },
      "cell_type": "code",
      "source": [
        "model.compile(\n",
        "    loss='binary_crossentropy',\n",
        "    \n",
        "    optimizer=optimizers.RMSprop(lr=1e-5), \n",
        "    metrics=['acc'])\n",
        "\n",
        "\n",
        "history = model.fit_generator(\n",
        "    train_generator,\n",
        "    steps_per_epoch=100,\n",
        "    epochs=100,\n",
        "    validation_data=validation_generator,\n",
        "    validation_steps=50)"
      ],
      "execution_count": 0,
      "outputs": [
        {
          "output_type": "stream",
          "text": [
            "Epoch 1/100\n",
            "100/100 [==============================] - 21s 208ms/step - loss: 0.3203 - acc: 0.8630 - val_loss: 0.2310 - val_acc: 0.9060\n",
            "Epoch 2/100\n",
            "100/100 [==============================] - 19s 187ms/step - loss: 0.2630 - acc: 0.8930 - val_loss: 0.2864 - val_acc: 0.8810\n",
            "Epoch 3/100\n",
            "100/100 [==============================] - 20s 196ms/step - loss: 0.2474 - acc: 0.8900 - val_loss: 0.2067 - val_acc: 0.9210\n",
            "Epoch 4/100\n",
            "100/100 [==============================] - 18s 184ms/step - loss: 0.2256 - acc: 0.9080 - val_loss: 0.1879 - val_acc: 0.9240\n",
            "Epoch 5/100\n",
            "100/100 [==============================] - 18s 185ms/step - loss: 0.2044 - acc: 0.9140 - val_loss: 0.1742 - val_acc: 0.9330\n",
            "Epoch 6/100\n",
            "100/100 [==============================] - 19s 185ms/step - loss: 0.1853 - acc: 0.9190 - val_loss: 0.1743 - val_acc: 0.9350\n",
            "Epoch 7/100\n",
            "100/100 [==============================] - 20s 198ms/step - loss: 0.1761 - acc: 0.9320 - val_loss: 0.2025 - val_acc: 0.9220\n",
            "Epoch 8/100\n",
            "100/100 [==============================] - 18s 183ms/step - loss: 0.1575 - acc: 0.9365 - val_loss: 0.1904 - val_acc: 0.9280\n",
            "Epoch 9/100\n",
            "100/100 [==============================] - 18s 184ms/step - loss: 0.1459 - acc: 0.9420 - val_loss: 0.2334 - val_acc: 0.9220\n",
            "Epoch 10/100\n",
            "100/100 [==============================] - 18s 184ms/step - loss: 0.1403 - acc: 0.9485 - val_loss: 0.2190 - val_acc: 0.9280\n",
            "Epoch 11/100\n",
            "100/100 [==============================] - 19s 189ms/step - loss: 0.1235 - acc: 0.9485 - val_loss: 0.2914 - val_acc: 0.9180\n",
            "Epoch 12/100\n",
            "100/100 [==============================] - 19s 188ms/step - loss: 0.1530 - acc: 0.9385 - val_loss: 0.2331 - val_acc: 0.9240\n",
            "Epoch 13/100\n",
            "100/100 [==============================] - 18s 184ms/step - loss: 0.1215 - acc: 0.9525 - val_loss: 0.1942 - val_acc: 0.9380\n",
            "Epoch 14/100\n",
            "100/100 [==============================] - 19s 190ms/step - loss: 0.1312 - acc: 0.9475 - val_loss: 0.2214 - val_acc: 0.9300\n",
            "Epoch 15/100\n",
            "100/100 [==============================] - 18s 183ms/step - loss: 0.1189 - acc: 0.9525 - val_loss: 0.2141 - val_acc: 0.9310\n",
            "Epoch 16/100\n",
            "100/100 [==============================] - 20s 204ms/step - loss: 0.1082 - acc: 0.9570 - val_loss: 0.2190 - val_acc: 0.9290\n",
            "Epoch 17/100\n",
            "100/100 [==============================] - 19s 185ms/step - loss: 0.1060 - acc: 0.9595 - val_loss: 0.1957 - val_acc: 0.9340\n",
            "Epoch 18/100\n",
            "100/100 [==============================] - 18s 183ms/step - loss: 0.1033 - acc: 0.9560 - val_loss: 0.1874 - val_acc: 0.9470\n",
            "Epoch 19/100\n",
            "100/100 [==============================] - 18s 183ms/step - loss: 0.1001 - acc: 0.9565 - val_loss: 0.2067 - val_acc: 0.9330\n",
            "Epoch 20/100\n",
            "100/100 [==============================] - 20s 197ms/step - loss: 0.1062 - acc: 0.9600 - val_loss: 0.1922 - val_acc: 0.9360\n",
            "Epoch 21/100\n",
            "100/100 [==============================] - 18s 183ms/step - loss: 0.0843 - acc: 0.9710 - val_loss: 0.2186 - val_acc: 0.9380\n",
            "Epoch 22/100\n",
            "100/100 [==============================] - 18s 184ms/step - loss: 0.0809 - acc: 0.9735 - val_loss: 0.1868 - val_acc: 0.9430\n",
            "Epoch 23/100\n",
            "100/100 [==============================] - 18s 183ms/step - loss: 0.0851 - acc: 0.9645 - val_loss: 0.2038 - val_acc: 0.9450\n",
            "Epoch 24/100\n",
            "100/100 [==============================] - 19s 191ms/step - loss: 0.0829 - acc: 0.9695 - val_loss: 0.2382 - val_acc: 0.9350\n",
            "Epoch 25/100\n",
            "100/100 [==============================] - 18s 184ms/step - loss: 0.0949 - acc: 0.9640 - val_loss: 0.4207 - val_acc: 0.9040\n",
            "Epoch 26/100\n",
            "100/100 [==============================] - 18s 183ms/step - loss: 0.0812 - acc: 0.9680 - val_loss: 0.2298 - val_acc: 0.9410\n",
            "Epoch 27/100\n",
            "100/100 [==============================] - 18s 183ms/step - loss: 0.0724 - acc: 0.9730 - val_loss: 0.2670 - val_acc: 0.9320\n",
            "Epoch 28/100\n",
            "100/100 [==============================] - 18s 184ms/step - loss: 0.0598 - acc: 0.9730 - val_loss: 0.2070 - val_acc: 0.9370\n",
            "Epoch 29/100\n",
            "100/100 [==============================] - 19s 194ms/step - loss: 0.0857 - acc: 0.9705 - val_loss: 0.1961 - val_acc: 0.9440\n",
            "Epoch 30/100\n",
            "100/100 [==============================] - 19s 192ms/step - loss: 0.0577 - acc: 0.9790 - val_loss: 0.2382 - val_acc: 0.9390\n",
            "Epoch 31/100\n",
            "100/100 [==============================] - 18s 182ms/step - loss: 0.0728 - acc: 0.9725 - val_loss: 0.2294 - val_acc: 0.9410\n",
            "Epoch 32/100\n",
            "100/100 [==============================] - 18s 183ms/step - loss: 0.0650 - acc: 0.9775 - val_loss: 0.2054 - val_acc: 0.9420\n",
            "Epoch 33/100\n",
            "100/100 [==============================] - 20s 199ms/step - loss: 0.0461 - acc: 0.9835 - val_loss: 0.2356 - val_acc: 0.9300\n",
            "Epoch 34/100\n",
            "100/100 [==============================] - 18s 182ms/step - loss: 0.0671 - acc: 0.9755 - val_loss: 0.2197 - val_acc: 0.9450\n",
            "Epoch 35/100\n",
            "100/100 [==============================] - 18s 183ms/step - loss: 0.0497 - acc: 0.9800 - val_loss: 0.2273 - val_acc: 0.9420\n",
            "Epoch 36/100\n",
            "100/100 [==============================] - 18s 183ms/step - loss: 0.0485 - acc: 0.9825 - val_loss: 0.2198 - val_acc: 0.9450\n",
            "Epoch 37/100\n",
            "100/100 [==============================] - 19s 193ms/step - loss: 0.0546 - acc: 0.9800 - val_loss: 0.2129 - val_acc: 0.9440\n",
            "Epoch 38/100\n",
            "100/100 [==============================] - 18s 183ms/step - loss: 0.0552 - acc: 0.9810 - val_loss: 0.3163 - val_acc: 0.9280\n",
            "Epoch 39/100\n",
            "100/100 [==============================] - 18s 181ms/step - loss: 0.0466 - acc: 0.9800 - val_loss: 0.2922 - val_acc: 0.9320\n",
            "Epoch 40/100\n",
            "100/100 [==============================] - 18s 182ms/step - loss: 0.0416 - acc: 0.9855 - val_loss: 0.2148 - val_acc: 0.9420\n",
            "Epoch 41/100\n",
            "100/100 [==============================] - 18s 181ms/step - loss: 0.0413 - acc: 0.9855 - val_loss: 0.2428 - val_acc: 0.9550\n",
            "Epoch 42/100\n",
            "100/100 [==============================] - 19s 192ms/step - loss: 0.0536 - acc: 0.9825 - val_loss: 0.3143 - val_acc: 0.9330\n",
            "Epoch 43/100\n",
            "100/100 [==============================] - 18s 182ms/step - loss: 0.0586 - acc: 0.9790 - val_loss: 0.2618 - val_acc: 0.9380\n",
            "Epoch 44/100\n",
            "100/100 [==============================] - 18s 182ms/step - loss: 0.0442 - acc: 0.9825 - val_loss: 0.2488 - val_acc: 0.9430\n",
            "Epoch 45/100\n",
            "100/100 [==============================] - 18s 182ms/step - loss: 0.0464 - acc: 0.9800 - val_loss: 0.2399 - val_acc: 0.9490\n",
            "Epoch 46/100\n",
            "100/100 [==============================] - 20s 196ms/step - loss: 0.0470 - acc: 0.9825 - val_loss: 0.2548 - val_acc: 0.9540\n",
            "Epoch 47/100\n",
            "100/100 [==============================] - 19s 186ms/step - loss: 0.0502 - acc: 0.9820 - val_loss: 0.2555 - val_acc: 0.9480\n",
            "Epoch 48/100\n",
            "100/100 [==============================] - 18s 182ms/step - loss: 0.0463 - acc: 0.9820 - val_loss: 0.2765 - val_acc: 0.9360\n",
            "Epoch 49/100\n",
            "100/100 [==============================] - 18s 181ms/step - loss: 0.0381 - acc: 0.9880 - val_loss: 0.3849 - val_acc: 0.9220\n",
            "Epoch 50/100\n",
            "100/100 [==============================] - 21s 206ms/step - loss: 0.0437 - acc: 0.9840 - val_loss: 0.2379 - val_acc: 0.9370\n",
            "Epoch 51/100\n",
            "100/100 [==============================] - 18s 182ms/step - loss: 0.0415 - acc: 0.9795 - val_loss: 0.2874 - val_acc: 0.9310\n",
            "Epoch 52/100\n",
            "100/100 [==============================] - 18s 181ms/step - loss: 0.0412 - acc: 0.9870 - val_loss: 0.2913 - val_acc: 0.9350\n",
            "Epoch 53/100\n",
            "100/100 [==============================] - 18s 181ms/step - loss: 0.0442 - acc: 0.9850 - val_loss: 0.2990 - val_acc: 0.9360\n",
            "Epoch 54/100\n",
            "100/100 [==============================] - 18s 182ms/step - loss: 0.0468 - acc: 0.9860 - val_loss: 0.2646 - val_acc: 0.9470\n",
            "Epoch 55/100\n",
            "100/100 [==============================] - 19s 192ms/step - loss: 0.0411 - acc: 0.9870 - val_loss: 0.2786 - val_acc: 0.9450\n",
            "Epoch 56/100\n",
            "100/100 [==============================] - 18s 182ms/step - loss: 0.0264 - acc: 0.9895 - val_loss: 0.2626 - val_acc: 0.9520\n",
            "Epoch 57/100\n",
            "100/100 [==============================] - 18s 181ms/step - loss: 0.0438 - acc: 0.9840 - val_loss: 0.2687 - val_acc: 0.9430\n",
            "Epoch 58/100\n",
            "100/100 [==============================] - 18s 182ms/step - loss: 0.0372 - acc: 0.9865 - val_loss: 0.2870 - val_acc: 0.9450\n",
            "Epoch 59/100\n",
            "100/100 [==============================] - 20s 198ms/step - loss: 0.0338 - acc: 0.9865 - val_loss: 0.3675 - val_acc: 0.9340\n",
            "Epoch 60/100\n",
            "100/100 [==============================] - 18s 183ms/step - loss: 0.0420 - acc: 0.9870 - val_loss: 0.2660 - val_acc: 0.9460\n",
            "Epoch 61/100\n",
            "100/100 [==============================] - 18s 182ms/step - loss: 0.0336 - acc: 0.9890 - val_loss: 0.4314 - val_acc: 0.9250\n",
            "Epoch 62/100\n",
            "100/100 [==============================] - 18s 182ms/step - loss: 0.0285 - acc: 0.9890 - val_loss: 0.3088 - val_acc: 0.9450\n",
            "Epoch 63/100\n",
            "100/100 [==============================] - 20s 198ms/step - loss: 0.0293 - acc: 0.9890 - val_loss: 0.2828 - val_acc: 0.9440\n",
            "Epoch 64/100\n",
            "100/100 [==============================] - 18s 183ms/step - loss: 0.0406 - acc: 0.9830 - val_loss: 0.3650 - val_acc: 0.9320\n",
            "Epoch 65/100\n",
            "100/100 [==============================] - 18s 183ms/step - loss: 0.0407 - acc: 0.9895 - val_loss: 0.3285 - val_acc: 0.9350\n",
            "Epoch 66/100\n",
            "100/100 [==============================] - 19s 190ms/step - loss: 0.0367 - acc: 0.9880 - val_loss: 0.2627 - val_acc: 0.9440\n",
            "Epoch 67/100\n",
            "100/100 [==============================] - 19s 188ms/step - loss: 0.0267 - acc: 0.9890 - val_loss: 0.3111 - val_acc: 0.9440\n",
            "Epoch 68/100\n",
            "100/100 [==============================] - 19s 191ms/step - loss: 0.0192 - acc: 0.9920 - val_loss: 0.3326 - val_acc: 0.9470\n",
            "Epoch 69/100\n",
            "100/100 [==============================] - 18s 182ms/step - loss: 0.0233 - acc: 0.9930 - val_loss: 0.3093 - val_acc: 0.9470\n",
            "Epoch 70/100\n",
            "100/100 [==============================] - 18s 182ms/step - loss: 0.0277 - acc: 0.9915 - val_loss: 0.2969 - val_acc: 0.9420\n",
            "Epoch 71/100\n",
            "100/100 [==============================] - 18s 183ms/step - loss: 0.0422 - acc: 0.9895 - val_loss: 0.3455 - val_acc: 0.9400\n",
            "Epoch 72/100\n",
            "100/100 [==============================] - 20s 197ms/step - loss: 0.0171 - acc: 0.9935 - val_loss: 0.3805 - val_acc: 0.9370\n",
            "Epoch 73/100\n",
            "100/100 [==============================] - 18s 184ms/step - loss: 0.0366 - acc: 0.9885 - val_loss: 0.3061 - val_acc: 0.9520\n",
            "Epoch 74/100\n",
            "100/100 [==============================] - 18s 183ms/step - loss: 0.0287 - acc: 0.9925 - val_loss: 0.3635 - val_acc: 0.9360\n",
            "Epoch 75/100\n",
            "100/100 [==============================] - 18s 182ms/step - loss: 0.0224 - acc: 0.9910 - val_loss: 0.2742 - val_acc: 0.9510\n",
            "Epoch 76/100\n",
            "100/100 [==============================] - 20s 195ms/step - loss: 0.0349 - acc: 0.9905 - val_loss: 0.2927 - val_acc: 0.9510\n",
            "Epoch 77/100\n",
            "100/100 [==============================] - 18s 183ms/step - loss: 0.0259 - acc: 0.9900 - val_loss: 0.3631 - val_acc: 0.9460\n",
            "Epoch 78/100\n",
            "100/100 [==============================] - 18s 183ms/step - loss: 0.0296 - acc: 0.9895 - val_loss: 0.3390 - val_acc: 0.9450\n",
            "Epoch 79/100\n",
            "100/100 [==============================] - 19s 187ms/step - loss: 0.0187 - acc: 0.9935 - val_loss: 0.3587 - val_acc: 0.9350\n",
            "Epoch 80/100\n",
            "100/100 [==============================] - 19s 186ms/step - loss: 0.0294 - acc: 0.9925 - val_loss: 0.2963 - val_acc: 0.9490\n",
            "Epoch 81/100\n",
            "100/100 [==============================] - 19s 190ms/step - loss: 0.0238 - acc: 0.9900 - val_loss: 0.2953 - val_acc: 0.9470\n",
            "Epoch 82/100\n",
            "100/100 [==============================] - 18s 182ms/step - loss: 0.0267 - acc: 0.9910 - val_loss: 0.3199 - val_acc: 0.9460\n",
            "Epoch 83/100\n",
            "100/100 [==============================] - 20s 198ms/step - loss: 0.0263 - acc: 0.9880 - val_loss: 0.5377 - val_acc: 0.9200\n",
            "Epoch 84/100\n",
            "100/100 [==============================] - 18s 183ms/step - loss: 0.0265 - acc: 0.9920 - val_loss: 0.3646 - val_acc: 0.9360\n",
            "Epoch 85/100\n",
            "100/100 [==============================] - 20s 195ms/step - loss: 0.0287 - acc: 0.9905 - val_loss: 0.6288 - val_acc: 0.9100\n",
            "Epoch 86/100\n",
            "100/100 [==============================] - 18s 182ms/step - loss: 0.0271 - acc: 0.9925 - val_loss: 0.3291 - val_acc: 0.9400\n",
            "Epoch 87/100\n",
            "100/100 [==============================] - 18s 182ms/step - loss: 0.0202 - acc: 0.9940 - val_loss: 0.4493 - val_acc: 0.9270\n",
            "Epoch 88/100\n",
            "100/100 [==============================] - 18s 182ms/step - loss: 0.0242 - acc: 0.9930 - val_loss: 0.2994 - val_acc: 0.9470\n",
            "Epoch 89/100\n",
            "100/100 [==============================] - 20s 197ms/step - loss: 0.0163 - acc: 0.9925 - val_loss: 0.3687 - val_acc: 0.9360\n",
            "Epoch 90/100\n",
            "100/100 [==============================] - 18s 181ms/step - loss: 0.0242 - acc: 0.9930 - val_loss: 0.3950 - val_acc: 0.9370\n",
            "Epoch 91/100\n",
            "100/100 [==============================] - 18s 183ms/step - loss: 0.0219 - acc: 0.9930 - val_loss: 0.3165 - val_acc: 0.9450\n",
            "Epoch 92/100\n",
            "100/100 [==============================] - 18s 181ms/step - loss: 0.0203 - acc: 0.9955 - val_loss: 0.4083 - val_acc: 0.9390\n",
            "Epoch 93/100\n",
            "100/100 [==============================] - 19s 187ms/step - loss: 0.0224 - acc: 0.9925 - val_loss: 0.4159 - val_acc: 0.9360\n",
            "Epoch 94/100\n",
            "100/100 [==============================] - 19s 189ms/step - loss: 0.0171 - acc: 0.9950 - val_loss: 0.3471 - val_acc: 0.9410\n",
            "Epoch 95/100\n",
            "100/100 [==============================] - 18s 183ms/step - loss: 0.0167 - acc: 0.9930 - val_loss: 0.3987 - val_acc: 0.9370\n",
            "Epoch 96/100\n",
            "100/100 [==============================] - 19s 190ms/step - loss: 0.0311 - acc: 0.9880 - val_loss: 0.3125 - val_acc: 0.9410\n",
            "Epoch 97/100\n",
            "100/100 [==============================] - 18s 183ms/step - loss: 0.0256 - acc: 0.9905 - val_loss: 0.3379 - val_acc: 0.9390\n",
            "Epoch 98/100\n",
            "100/100 [==============================] - 20s 195ms/step - loss: 0.0329 - acc: 0.9880 - val_loss: 0.5529 - val_acc: 0.9090\n",
            "Epoch 99/100\n",
            "100/100 [==============================] - 18s 182ms/step - loss: 0.0160 - acc: 0.9940 - val_loss: 0.3865 - val_acc: 0.9420\n",
            "Epoch 100/100\n",
            "100/100 [==============================] - 19s 195ms/step - loss: 0.0304 - acc: 0.9910 - val_loss: 0.5977 - val_acc: 0.9050\n"
          ],
          "name": "stdout"
        }
      ]
    },
    {
      "metadata": {
        "id": "bq0q5fmAbu9i",
        "colab_type": "code",
        "outputId": "78632685-9764-4f10-b3d6-58adcfa608f9",
        "colab": {
          "base_uri": "https://localhost:8080/",
          "height": 579
        }
      },
      "cell_type": "code",
      "source": [
        "%matplotlib inline\n",
        "\n",
        "import matplotlib.pyplot as plt\n",
        "\n",
        "acc = history.history['acc']\n",
        "val_acc = history.history['val_acc']\n",
        "\n",
        "loss = history.history['loss']\n",
        "val_loss = history.history['val_loss']\n",
        "\n",
        "epochs = range(1, len(acc) + 1)\n",
        "\n",
        "# training and validation accuracy\n",
        "\n",
        "plt.plot(epochs, acc, 'bo', label='training acc')\n",
        "plt.plot(epochs, val_acc, 'b', label='validation acc')\n",
        "plt.title('training and validation accuracy')\n",
        "plt.legend()\n",
        "\n",
        "plt.figure()\n",
        "\n",
        "# training and validation loss\n",
        "\n",
        "plt.plot(epochs, loss, 'bo', label='training loss')\n",
        "plt.plot(epochs, val_loss, 'b', label='validation loss')\n",
        "plt.title('training and validation loss')\n",
        "plt.legend()\n",
        "\n",
        "plt.show()\n",
        "\n",
        "val_loss, val_acc = model.evaluate_generator(validation_generator, steps=50)\n",
        "print(\"Validation loss:\", val_loss)\n",
        "print(\"Validation accuracy:\", val_acc)"
      ],
      "execution_count": 0,
      "outputs": [
        {
          "output_type": "display_data",
          "data": {
            "image/png": "[encoded data removed]",
            "text/plain": [
              "<Figure size 432x288 with 1 Axes>"
            ]
          },
          "metadata": {
            "tags": []
          }
        },
        {
          "output_type": "display_data",
          "data": {
            "image/png": "[encoded data removed]",
            "text/plain": [
              "<Figure size 432x288 with 1 Axes>"
            ]
          },
          "metadata": {
            "tags": []
          }
        },
        {
          "output_type": "stream",
          "text": [
            "Validation loss: 0.6634685031196568\n",
            "Validation accuracy: 0.8949999928474426\n"
          ],
          "name": "stdout"
        }
      ]
    },
    {
      "metadata": {
        "id": "cWYzQzErcc3s",
        "colab_type": "code",
        "colab": {}
      },
      "cell_type": "code",
      "source": [
        ""
      ],
      "execution_count": 0,
      "outputs": []
    }
  ]
}